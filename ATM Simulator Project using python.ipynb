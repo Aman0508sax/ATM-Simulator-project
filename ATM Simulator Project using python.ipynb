{
 "cells": [
  {
   "cell_type": "code",
   "execution_count": null,
   "id": "e2fd6ece",
   "metadata": {},
   "outputs": [
    {
     "name": "stdout",
     "output_type": "stream",
     "text": [
      "Welcome to ABC Bank ATM\n",
      "********\n",
      "Dear Customer,Please Insert your Debit Card\n"
     ]
    }
   ],
   "source": [
    "balance=2000\n",
    "print('Welcome to ABC Bank ATM')\n",
    "import time\n",
    "\n",
    "print('********')\n",
    "print('Dear Customer,Please Insert your Debit Card')\n",
    "time.sleep(5)\n",
    "\n",
    "Pin=(input('Please enter your 4 digit Pin: '))\n",
    "\n",
    "if Pin.isdigit() and len(Pin)==4:\n",
    "    print('Entered Pin is valid')\n",
    "    while True:\n",
    "        print('''\n",
    "           1==Check Balance\n",
    "           2==Withdraw\n",
    "           3==Deposit amount\n",
    "           4==Exit''')\n",
    "        try:\n",
    "            option=int(input('Please choose any option from above'))\n",
    "        except:\n",
    "            print('Choosed option is wrong')\n",
    "        \n",
    "        if option==1:\n",
    "            print(f\"Your account balance is: {balance}\")\n",
    "        if option==2:\n",
    "            withdraw_amount=int(input('Please enter withdraw money'))\n",
    "            balance=balance-withdraw_amount\n",
    "            print('Dear Customer your remaining Balance is: ',balance)\n",
    "        if option==3:\n",
    "            Deposit_amount=int(input('Please enter Deposit amount'))\n",
    "            balance=balance+Deposit_amount\n",
    "            print(f\"Rs {balance}/- only is credited to your account\")\n",
    "            print('Your current balance is: ',balance)\n",
    "            \n",
    "            receipt=input('Do you want receipt yes/no')\n",
    "            if receipt=='yes':\n",
    "                print('I want receipt')\n",
    "            else:\n",
    "                print('No i do not want')\n",
    "        if option==4:\n",
    "            print('***Transaction successful***')\n",
    "            print('*****')\n",
    "            print('****')\n",
    "            print('***')\n",
    "            print('**')\n",
    "            print('Thanks for visiting us!!,See you again')\n",
    "            break\n",
    "else:\n",
    "    print('Invalid Pin')"
   ]
  },
  {
   "cell_type": "markdown",
   "id": "120de437",
   "metadata": {},
   "source": [
    "#### "
   ]
  },
  {
   "cell_type": "code",
   "execution_count": null,
   "id": "b48b8808",
   "metadata": {},
   "outputs": [],
   "source": []
  }
 ],
 "metadata": {
  "kernelspec": {
   "display_name": "Python 3 (ipykernel)",
   "language": "python",
   "name": "python3"
  },
  "language_info": {
   "codemirror_mode": {
    "name": "ipython",
    "version": 3
   },
   "file_extension": ".py",
   "mimetype": "text/x-python",
   "name": "python",
   "nbconvert_exporter": "python",
   "pygments_lexer": "ipython3",
   "version": "3.11.4"
  }
 },
 "nbformat": 4,
 "nbformat_minor": 5
}
