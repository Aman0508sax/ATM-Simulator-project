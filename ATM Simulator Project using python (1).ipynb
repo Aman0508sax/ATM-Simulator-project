{
 "cells": [
  {
   "cell_type": "code",
   "execution_count": 1,
   "id": "e2fd6ece",
   "metadata": {},
   "outputs": [
    {
     "name": "stdout",
     "output_type": "stream",
     "text": [
      "Welcome to ABC Bank ATM\n",
      "********\n",
      "Dear Customer,Please Insert your Debit Card\n",
      "Please enter your 4 digit Pin: 1234\n",
      "Entered Pin is valid\n",
      "\n",
      "           1==Check Balance\n",
      "           2==Withdraw\n",
      "           3==Deposit amount\n",
      "           4==Exit\n",
      "Please choose any option from above4\n",
      "***Transaction successful***\n",
      "*****\n",
      "****\n",
      "***\n",
      "**\n",
      "Thanks for visiting us!!,See you again\n"
     ]
    }
   ],
   "source": [
    "balance=2000\n",
    "print('Welcome to ABC Bank ATM')\n",
    "import time\n",
    "\n",
    "print('********')\n",
    "print('Dear Customer,Please Insert your Debit Card')\n",
    "time.sleep(5)\n",
    "\n",
    "Pin=(input('Please enter your 4 digit Pin: '))\n",
    "\n",
    "if Pin.isdigit() and len(Pin)==4:\n",
    "    print('Entered Pin is valid')\n",
    "    while True:\n",
    "        print('''\n",
    "           1==Check Balance\n",
    "           2==Withdraw\n",
    "           3==Deposit amount\n",
    "           4==Exit''')\n",
    "        try:\n",
    "            option=int(input('Please choose any option from above'))\n",
    "        except:\n",
    "            print('Choosed option is wrong')\n",
    "        \n",
    "        if option==1:\n",
    "            print(f\"Your account balance is: {balance}\")\n",
    "        if option==2:\n",
    "            withdraw_amount=int(input('Please enter withdraw money'))\n",
    "            balance=balance-withdraw_amount\n",
    "            print('Dear Customer your remaining Balance is: ',balance)\n",
    "        if option==3:\n",
    "            Deposit_amount=int(input('Please enter Deposit amount'))\n",
    "            balance=balance+Deposit_amount\n",
    "            print(f\"Rs {balance}/- only is credited to your account\")\n",
    "            print('Your current balance is: ',balance)\n",
    "            \n",
    "            receipt=input('Do you want receipt yes/no')\n",
    "            if receipt=='yes':\n",
    "                print('I want receipt')\n",
    "            else:\n",
    "                print('No i do not want')\n",
    "        if option==4:\n",
    "            print('***Transaction successful***')\n",
    "            print('*****')\n",
    "            print('****')\n",
    "            print('***')\n",
    "            print('**')\n",
    "            print('Thanks for visiting us!!,See you again')\n",
    "            break\n",
    "else:\n",
    "    print('Invalid Pin')"
   ]
  },
  {
   "cell_type": "markdown",
   "id": "120de437",
   "metadata": {},
   "source": [
    "#### "
   ]
  },
  {
   "cell_type": "markdown",
   "id": "31c276c0",
   "metadata": {},
   "source": [
    "# Documentation \n"
   ]
  },
  {
   "cell_type": "code",
   "execution_count": null,
   "id": "10466027",
   "metadata": {},
   "outputs": [],
   "source": [
    "#1.) Here in this project we starts with importing time module writing import time , it is a in built module of python which works when you want to give a time lapse in something ,so whenever we go to ATM when we insert out ATM card a slight pause of 5 sec comes that can be done by import time module.\n",
    "\n",
    "#2.)By default I have given a balance of 2000/- INR but you can give any balance and it works perfectly.\n",
    "\n",
    "#3.)At first i print ('Welcome to ABC Bank ATM') it's a welcome note whenever your go to an ATM .\n",
    "\n",
    "#4.)Reason of executing print('********') is just to look the code and display attractive .\n",
    "\n",
    "#5.)when  we insert card it asks for 4 digit pin so for that i ask the user to provide input of their 4 digit pin.\n",
    "\n",
    "#6.)Here I use .isdigit() method of python which  returns True if all the characters are digits, otherwise False.\n",
    "\n",
    "#7.)I provide len(Pin)==4 used len() function here to check the length of pin or number of items and putting it ==4 defines that if pin length is equal to 4 only then it will takes it as true other wise it will deny.\n",
    "\n",
    "#8.)The above point (#7) runs in a if-else statement if pin is equals to 4 it will print (pin is valid) else not .\n",
    "\n",
    "#9.) Now in the same if-else we run a while loop ,which when true : we print basic functionalities (Check Balance,withdraw, deposit , exit) by numbering them and use try and exception blocks.\n",
    "\n",
    "#10.) try block helps to execute  when there is no error in the program meanwhile exception works When an error occurs.\n",
    "\n",
    "#11.) if choosed option is right in the same if - else we run and another if-else called as nested if-else where we pass condition for every option and prints them accordingly.\n",
    "\n",
    "#12.) if you wanna choose option 1 and check your balance print balance in f string .\n",
    "\n",
    "#13.) if you wanna deposit amount so amount that is going to be deposit it will store in a variable in addition to current balance and that variable executed.\n",
    "\n",
    "#14.)if you wanna withdraw amount so amount that is going to be withdraw it will store in a variable by subtracting from current balance and that variable executed.\n",
    "\n",
    "#15.)In this code I have also mark that if you want transaction receipt or not for that i used if-else statement.\n",
    "\n",
    "#16.) last but not the least if you wanna exit print option==4 and exit.\n"
   ]
  },
  {
   "cell_type": "markdown",
   "id": "41273c9d",
   "metadata": {},
   "source": [
    "# Thankyou !!!!"
   ]
  },
  {
   "cell_type": "code",
   "execution_count": null,
   "id": "0f0c89ca",
   "metadata": {},
   "outputs": [],
   "source": []
  }
 ],
 "metadata": {
  "kernelspec": {
   "display_name": "Python 3 (ipykernel)",
   "language": "python",
   "name": "python3"
  },
  "language_info": {
   "codemirror_mode": {
    "name": "ipython",
    "version": 3
   },
   "file_extension": ".py",
   "mimetype": "text/x-python",
   "name": "python",
   "nbconvert_exporter": "python",
   "pygments_lexer": "ipython3",
   "version": "3.11.4"
  }
 },
 "nbformat": 4,
 "nbformat_minor": 5
}
